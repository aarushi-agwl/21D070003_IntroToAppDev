{
  "nbformat": 4,
  "nbformat_minor": 0,
  "metadata": {
    "colab": {
      "provenance": [],
      "authorship_tag": "ABX9TyP0fsSgkKYR09TUM06thdQY",
      "include_colab_link": true
    },
    "kernelspec": {
      "name": "python3",
      "display_name": "Python 3"
    },
    "language_info": {
      "name": "python"
    }
  },
  "cells": [
    {
      "cell_type": "markdown",
      "metadata": {
        "id": "view-in-github",
        "colab_type": "text"
      },
      "source": [
        "<a href=\"https://colab.research.google.com/github/aarushi-agwl/21D070003_IntroToAppDev/blob/main/Assignment_1.ipynb\" target=\"_parent\"><img src=\"https://colab.research.google.com/assets/colab-badge.svg\" alt=\"Open In Colab\"/></a>"
      ]
    },
    {
      "cell_type": "code",
      "execution_count": null,
      "metadata": {
        "id": "mSPje4VhN3BD"
      },
      "outputs": [],
      "source": [
        "import 'package:flutter/material.dart';\n",
        "\n",
        "void main() {\n",
        "  runApp(const MyApp());\n",
        "}\n",
        "\n",
        "class MyApp extends StatelessWidget {\n",
        "  const MyApp({Key? key}) : super(key: key);\n",
        "\n",
        "  @override\n",
        "  Widget build(BuildContext context) {\n",
        "    return MaterialApp(\n",
        "      title: 'Flutter Demo',\n",
        "      theme: ThemeData(\n",
        "        primarySwatch: Colors.blue,\n",
        "      ),\n",
        "      home: const MyHomePage(title: 'Counter App'),\n",
        "    );\n",
        "  }\n",
        "}\n",
        "\n",
        "class MyHomePage extends StatefulWidget {\n",
        "  const MyHomePage({Key? key, required this.title}) : super(key: key);\n",
        "\n",
        "  final String title;\n",
        "\n",
        "  @override\n",
        "  State<MyHomePage> createState() => _MyHomePageState();\n",
        "}\n",
        "\n",
        "class _MyHomePageState extends State<MyHomePage> {\n",
        "  int _counter = 0;\n",
        "\n",
        "  void _incrementCounter() {\n",
        "    setState(() {\n",
        "      _counter++;\n",
        "    });\n",
        "  }\n",
        "\n",
        "  void _decrementCounter() {\n",
        "    setState(() {\n",
        "      _counter--;\n",
        "    });\n",
        "  }\n",
        "\n",
        "  @override\n",
        "  Widget build(BuildContext context) {\n",
        "    return Scaffold(\n",
        "      appBar: AppBar(\n",
        "        title: Text(widget.title),\n",
        "      ),\n",
        "      body: Center(\n",
        "        child: Column(\n",
        "          mainAxisAlignment: MainAxisAlignment.center,\n",
        "          children: <Widget>[\n",
        "            const Text(\n",
        "              'Counter Value:',\n",
        "            ),\n",
        "            Text(\n",
        "              '$_counter',\n",
        "              style: Theme.of(context).textTheme.headlineMedium,\n",
        "            ),\n",
        "            Row(\n",
        "              mainAxisAlignment: MainAxisAlignment.center,\n",
        "              children: <Widget>[\n",
        "                ElevatedButton(\n",
        "                  onPressed: _decrementCounter,\n",
        "                  child: const Icon(Icons.remove),\n",
        "                ),\n",
        "                const SizedBox(width: 16),\n",
        "                ElevatedButton(\n",
        "                  onPressed: _incrementCounter,\n",
        "                  child: const Icon(Icons.add),\n",
        "                ),\n",
        "              ],\n",
        "            ),\n",
        "          ],\n",
        "        ),\n",
        "      ),\n",
        "    );\n",
        "  }\n",
        "}\n"
      ]
    }
  ]
}